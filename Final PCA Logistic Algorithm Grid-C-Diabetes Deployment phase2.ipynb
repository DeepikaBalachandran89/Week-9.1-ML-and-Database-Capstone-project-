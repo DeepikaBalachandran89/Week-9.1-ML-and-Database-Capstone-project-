{
 "cells": [
  {
   "cell_type": "code",
   "execution_count": 5,
   "id": "aba2fe36-e728-4771-bf52-a931a4637bf5",
   "metadata": {},
   "outputs": [],
   "source": [
    "#importing the Libraies\n",
    "import numpy as np\n",
    "import matplotlib.pyplot as plt\n",
    "import pandas as pd\n",
    "from sklearn.model_selection import train_test_split \n",
    "from sklearn.preprocessing import StandardScaler\n",
    "from sklearn.feature_selection import SelectKBest\n",
    "from sklearn.feature_selection import chi2\n",
    "from sklearn.linear_model import LogisticRegression\n",
    "import pickle\n",
    "from sklearn.model_selection import GridSearchCV\n",
    "dataset=pd.read_csv(\"diabetes.csv\",index_col=None)"
   ]
  },
  {
   "cell_type": "code",
   "execution_count": 6,
   "id": "026beb4c-7a31-4b73-8ca0-10663a65d801",
   "metadata": {},
   "outputs": [],
   "source": [
    "X=dataset[['Pregnancies', 'Glucose', 'BloodPressure', 'SkinThickness', 'Insulin',\n",
    "       'BMI', 'DiabetesPedigreeFunction', 'Age',]]\n",
    "y=dataset['Outcome']\n",
    "def selectpca(X_train,X_test,n):\n",
    "        pca = PCA(n_components=n)\n",
    "        pca = PCA(n_components = 5)\n",
    "        X_train = pca.fit_transform(X_train)\n",
    "        X_test = pca.transform(X_test)\n",
    "        explained_variance = pca.explained_variance_ratio_\n",
    "        return X_train, X_test, explained_variance\n",
    "#def split_scalar(indep_X,dep_Y): #train test split preprocess\n",
    "def split_scalar(X,y, test_size=0.2, random_state=0):         \n",
    "        #X_train, X_test, y_train, y_test = train_test_split(indep_X, dep_Y, test_size = 0.25, random_state = 0)\n",
    "        X_train, X_test, y_train, y_test = train_test_split(X, y, test_size = 0.2, random_state = 0)\n",
    "        sc = StandardScaler()\n",
    "        X_train = sc.fit_transform(X_train)\n",
    "        X_test = sc.transform(X_test)    \n",
    "        return X_train, X_test, y_train, y_test\n",
    "def cm_prediction(grid, X_test, y_test):\n",
    " \n",
    "        grid_predictions = grid.predict(X_test)\n",
    "        \n",
    "        # Making the Confusion Matrix\n",
    "        from sklearn.metrics import confusion_matrix\n",
    "        cm = confusion_matrix(y_test, grid_predictions)     # classification algorithm ML using confusion matrix\n",
    "        \n",
    "        from sklearn.metrics import accuracy_score \n",
    "        from sklearn.metrics import classification_report\n",
    "        \n",
    "        Accuracy=accuracy_score(y_test, grid_predictions )        #using accuracy\n",
    "        \n",
    "        report=classification_report(y_test, grid_predictions)     #using report\n",
    "        return  grid,Accuracy,report,grid_predictions,cm\n",
    "def logistic(X_train,y_train):       \n",
    "        # Fitting K-NN to the Training set\n",
    "    from sklearn.linear_model import LogisticRegression\n",
    "    param_grid = {'solver':['newton-cg', 'lbfgs', 'liblinear', 'saga'],\n",
    "             'penalty':['l2']} \n",
    "    grid = GridSearchCV(LogisticRegression(), param_grid, refit = True, verbose = 3,n_jobs=-1,scoring='f1_weighted')         \n",
    "    grid.fit(X_train, y_train)\n",
    "    grid,Accuracy,report,grid_predictions,cm=cm_prediction(grid,X_test,y_test)   #cm_prediction called here\n",
    "    return grid,Accuracy,report,grid_predictions,cm \n",
    "      \n",
    "def selectk_Classification(acclog): \n",
    "    \n",
    "    dataframe=pd.DataFrame(index=['PCA'],columns=['Logistic'])\n",
    "    for number,idex in enumerate(dataframe.index):      \n",
    "        dataframe['Logistic'][idex]=acclog[number]       \n",
    "        \n",
    "    return dataframe"
   ]
  },
  {
   "cell_type": "code",
   "execution_count": 7,
   "id": "cc5ebe4d-182f-4f14-a36b-ac49f62df7bd",
   "metadata": {},
   "outputs": [
    {
     "name": "stdout",
     "output_type": "stream",
     "text": [
      "Fitting 5 folds for each of 4 candidates, totalling 20 fits\n"
     ]
    },
    {
     "name": "stderr",
     "output_type": "stream",
     "text": [
      "C:\\Users\\Lenovo\\AppData\\Local\\Temp\\ipykernel_11996\\970378758.py:48: FutureWarning: ChainedAssignmentError: behaviour will change in pandas 3.0!\n",
      "You are setting values through chained assignment. Currently this works in certain cases, but when using Copy-on-Write (which will become the default behaviour in pandas 3.0) this will never work to update the original DataFrame or Series, because the intermediate object on which we are setting values will behave as a copy.\n",
      "A typical example is when you are setting values in a column of a DataFrame, like:\n",
      "\n",
      "df[\"col\"][row_indexer] = value\n",
      "\n",
      "Use `df.loc[row_indexer, \"col\"] = values` instead, to perform the assignment in a single step and ensure this keeps updating the original `df`.\n",
      "\n",
      "See the caveats in the documentation: https://pandas.pydata.org/pandas-docs/stable/user_guide/indexing.html#returning-a-view-versus-a-copy\n",
      "\n",
      "  dataframe['Logistic'][idex]=acclog[number]\n"
     ]
    }
   ],
   "source": [
    "acclog=[]\n",
    "X_train, X_test, y_train, y_test=split_scalar(X,y, test_size=0.2, random_state=0)   \n",
    "grid,Accuracy,report,grid_predictions,cm=logistic(X_train,y_train)\n",
    "acclog.append(Accuracy)\n",
    "result=selectk_Classification(acclog)"
   ]
  },
  {
   "cell_type": "code",
   "execution_count": 9,
   "id": "4b5a7f5f-7180-4379-a627-fcacf39e43c3",
   "metadata": {},
   "outputs": [
    {
     "data": {
      "text/html": [
       "<div>\n",
       "<style scoped>\n",
       "    .dataframe tbody tr th:only-of-type {\n",
       "        vertical-align: middle;\n",
       "    }\n",
       "\n",
       "    .dataframe tbody tr th {\n",
       "        vertical-align: top;\n",
       "    }\n",
       "\n",
       "    .dataframe thead th {\n",
       "        text-align: right;\n",
       "    }\n",
       "</style>\n",
       "<table border=\"1\" class=\"dataframe\">\n",
       "  <thead>\n",
       "    <tr style=\"text-align: right;\">\n",
       "      <th></th>\n",
       "      <th>Logistic</th>\n",
       "    </tr>\n",
       "  </thead>\n",
       "  <tbody>\n",
       "    <tr>\n",
       "      <th>PCA</th>\n",
       "      <td>0.824675</td>\n",
       "    </tr>\n",
       "  </tbody>\n",
       "</table>\n",
       "</div>"
      ],
      "text/plain": [
       "     Logistic\n",
       "PCA  0.824675"
      ]
     },
     "execution_count": 9,
     "metadata": {},
     "output_type": "execute_result"
    }
   ],
   "source": [
    "result\n",
    "#5"
   ]
  },
  {
   "cell_type": "code",
   "execution_count": 10,
   "id": "9b2b6f23-ae79-4b5a-a51b-9deff279a755",
   "metadata": {},
   "outputs": [
    {
     "data": {
      "text/plain": [
       "0.8661761781666335"
      ]
     },
     "execution_count": 10,
     "metadata": {},
     "output_type": "execute_result"
    }
   ],
   "source": [
    "from sklearn.metrics import roc_auc_score\n",
    "roc_auc_score(y_test,grid.predict_proba(X_test)[:,1])"
   ]
  },
  {
   "cell_type": "code",
   "execution_count": 11,
   "id": "f71eecda-7906-4f9f-bc8c-92b6c18441c7",
   "metadata": {},
   "outputs": [
    {
     "data": {
      "text/plain": [
       "array([1], dtype=int64)"
      ]
     },
     "execution_count": 11,
     "metadata": {},
     "output_type": "execute_result"
    }
   ],
   "source": [
    "grid.predict([[5,70,40,20,1,47.6,0.345,11]])"
   ]
  },
  {
   "cell_type": "code",
   "execution_count": null,
   "id": "09589428-ada2-4402-908f-571e9d2c093f",
   "metadata": {},
   "outputs": [],
   "source": []
  }
 ],
 "metadata": {
  "kernelspec": {
   "display_name": "Python 3 (ipykernel)",
   "language": "python",
   "name": "python3"
  },
  "language_info": {
   "codemirror_mode": {
    "name": "ipython",
    "version": 3
   },
   "file_extension": ".py",
   "mimetype": "text/x-python",
   "name": "python",
   "nbconvert_exporter": "python",
   "pygments_lexer": "ipython3",
   "version": "3.10.14"
  }
 },
 "nbformat": 4,
 "nbformat_minor": 5
}
